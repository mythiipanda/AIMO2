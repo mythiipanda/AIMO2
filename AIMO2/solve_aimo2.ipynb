import csv
import vllm
from vllm import PythonREPL

# Initialize LLM and Tokenizer
llm = vllm.LLM(
    "Qwen/Qwen2.5-Math-7B-Instruct",
    tensor_parallel_size=1,
    gpu_memory_utilization=0.95,
    trust_remote_code=True,
    dtype="half",
    enforce_eager=True,
)
tokenizer = llm.get_tokenizer()

def solve_problem(id, problem):
    # Prompt engineering
    prompt = f"Let's solve the following AIMO2 problem step by step:\n{problem}\n\nStep 1: "
    
    # Generate solution using LLM
    solution_steps = llm.generate(prompt, max_tokens=1024, stop_sequences=["#### 1024"])
    
    # Extract Python code from solution steps
    python_code = extract_python_code(solution_steps)
    
    # Run Python code using PythonREPL
    result = PythonREPL.run(python_code)
    
    return result

def extract_python_code(solution_steps):
    # Extract Python code from the generated solution steps
    # Implement this function based on the format of the generated solution
    # Return the extracted Python code
    pass

def main():
    with open('reference.csv', 'r') as file:
        reader = csv.DictReader(file)
        answers = []
        
        for row in reader:
            id = row['id']
            problem = row['problem']
            
            print(f"Solving problem {id}:")
            print(problem)
            
            solution = solve_problem(id, problem)
            
            print(f"Your solution: {solution}")
            print()
            
            answers.append({'id': id, 'solution': solution})
        
        # Save answers to a CSV file
        with open('answers.csv', 'w') as outfile:
            fieldnames = ['id', 'solution']
            writer = csv.DictWriter(outfile, fieldnames=fieldnames)
            writer.writeheader()
            writer.writerows(answers)

if __name__ == '__main__':
    main()
